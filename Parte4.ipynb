{
 "cells": [
  {
   "cell_type": "markdown",
   "id": "ea1e9742-7317-43a1-94ef-fe0388e43fd5",
   "metadata": {},
   "source": [
    "Entrenar un percetrón multicapa para clasificación (MLPClassifier) y determinar mediante validación cruzada, \n",
    "la exactitud en la clasificación para la base de datos de Cáncer contenida en el archivo Wine.csv. Verificar \n",
    "con qué modificaciones sobre el diseño de la red se obtienen mejores resultados. Comparar con los obtenidos \n",
    "mediante los clasificadores anteriores. Se pueden probar otros clasificadores implementados, en la librería \n",
    "scikit Learn. (Ver ejemplo en clase)."
   ]
  },
  {
   "cell_type": "code",
   "execution_count": 1,
   "id": "ce953d71-c2fa-4227-abf9-bac2e8f05d62",
   "metadata": {},
   "outputs": [
    {
     "name": "stdout",
     "output_type": "stream",
     "text": [
      "     1  14.23  1.71  2.43  15.6  127   2.8  3.06   .28  2.29   5.64  1.04  \\\n",
      "0    1  13.20  1.78  2.14  11.2  100  2.65  2.76  0.26  1.28   4.38  1.05   \n",
      "1    1  13.16  2.36  2.67  18.6  101  2.80  3.24  0.30  2.81   5.68  1.03   \n",
      "2    1  14.37  1.95  2.50  16.8  113  3.85  3.49  0.24  2.18   7.80  0.86   \n",
      "3    1  13.24  2.59  2.87  21.0  118  2.80  2.69  0.39  1.82   4.32  1.04   \n",
      "4    1  14.20  1.76  2.45  15.2  112  3.27  3.39  0.34  1.97   6.75  1.05   \n",
      "..  ..    ...   ...   ...   ...  ...   ...   ...   ...   ...    ...   ...   \n",
      "172  3  13.71  5.65  2.45  20.5   95  1.68  0.61  0.52  1.06   7.70  0.64   \n",
      "173  3  13.40  3.91  2.48  23.0  102  1.80  0.75  0.43  1.41   7.30  0.70   \n",
      "174  3  13.27  4.28  2.26  20.0  120  1.59  0.69  0.43  1.35  10.20  0.59   \n",
      "175  3  13.17  2.59  2.37  20.0  120  1.65  0.68  0.53  1.46   9.30  0.60   \n",
      "176  3  14.13  4.10  2.74  24.5   96  2.05  0.76  0.56  1.35   9.20  0.61   \n",
      "\n",
      "     3.92  1065  \n",
      "0    3.40  1050  \n",
      "1    3.17  1185  \n",
      "2    3.45  1480  \n",
      "3    2.93   735  \n",
      "4    2.85  1450  \n",
      "..    ...   ...  \n",
      "172  1.74   740  \n",
      "173  1.56   750  \n",
      "174  1.56   835  \n",
      "175  1.62   840  \n",
      "176  1.60   560  \n",
      "\n",
      "[177 rows x 14 columns]\n"
     ]
    }
   ],
   "source": [
    "import pandas as pd\n",
    "import numpy as np\n",
    "Wine_data = pd.read_csv('datos/wine.data')\n",
    "print(Wine_data)"
   ]
  },
  {
   "cell_type": "code",
   "execution_count": 2,
   "id": "18f5d8dc-79c0-46f3-bab3-188e75fefbe8",
   "metadata": {},
   "outputs": [
    {
     "name": "stdout",
     "output_type": "stream",
     "text": [
      "     MaliAcid   Ash  Alcalinity  Magnesium  Total  Flavanoids  Nonflavanoid  \\\n",
      "0       13.20  1.78        2.14       11.2    100        2.65          2.76   \n",
      "1       13.16  2.36        2.67       18.6    101        2.80          3.24   \n",
      "2       14.37  1.95        2.50       16.8    113        3.85          3.49   \n",
      "3       13.24  2.59        2.87       21.0    118        2.80          2.69   \n",
      "4       14.20  1.76        2.45       15.2    112        3.27          3.39   \n",
      "..        ...   ...         ...        ...    ...         ...           ...   \n",
      "172     13.71  5.65        2.45       20.5     95        1.68          0.61   \n",
      "173     13.40  3.91        2.48       23.0    102        1.80          0.75   \n",
      "174     13.27  4.28        2.26       20.0    120        1.59          0.69   \n",
      "175     13.17  2.59        2.37       20.0    120        1.65          0.68   \n",
      "176     14.13  4.10        2.74       24.5     96        2.05          0.76   \n",
      "\n",
      "     Proanthocyanins  Color    Hue  Wines  Proline  \n",
      "0               0.26   1.28   4.38   1.05     3.40  \n",
      "1               0.30   2.81   5.68   1.03     3.17  \n",
      "2               0.24   2.18   7.80   0.86     3.45  \n",
      "3               0.39   1.82   4.32   1.04     2.93  \n",
      "4               0.34   1.97   6.75   1.05     2.85  \n",
      "..               ...    ...    ...    ...      ...  \n",
      "172             0.52   1.06   7.70   0.64     1.74  \n",
      "173             0.43   1.41   7.30   0.70     1.56  \n",
      "174             0.43   1.35  10.20   0.59     1.56  \n",
      "175             0.53   1.46   9.30   0.60     1.62  \n",
      "176             0.56   1.35   9.20   0.61     1.60  \n",
      "\n",
      "[177 rows x 12 columns]\n",
      "     Clase\n",
      "0        1\n",
      "1        1\n",
      "2        1\n",
      "3        1\n",
      "4        1\n",
      "..     ...\n",
      "172      3\n",
      "173      3\n",
      "174      3\n",
      "175      3\n",
      "176      3\n",
      "\n",
      "[177 rows x 1 columns]\n"
     ]
    }
   ],
   "source": [
    "#Ponemos los atributos en un array con su valor\n",
    "alcohol = Wine_data.iloc[:,:1]\n",
    "MaliAcid = Wine_data.iloc[:,1:2]\n",
    "Ash = Wine_data.iloc[:,2:3]\n",
    "Alcalinity = Wine_data.iloc[:,3:4]\n",
    "Magnesium = Wine_data.iloc[:,4:5]\n",
    "Total = Wine_data.iloc[:,5:6]\n",
    "Flavanoids = Wine_data.iloc[:,6:7]\n",
    "Nonflavanoid = Wine_data.iloc[:,7:8]\n",
    "Proanthocyanins = Wine_data.iloc[:,8:9]\n",
    "Color = Wine_data.iloc[:,9:10]\n",
    "Hue = Wine_data.iloc[:,10:11]\n",
    "Wines = Wine_data.iloc[:,11:12]\n",
    "Proline = Wine_data.iloc[:,12:13] \n",
    "df = pd.DataFrame()\n",
    "Clase = pd.DataFrame()\n",
    "Clase['Clase'] = alcohol\n",
    "df['MaliAcid'] = MaliAcid\n",
    "df['Ash'] = Ash\n",
    "df['Alcalinity'] = Alcalinity\n",
    "df['Magnesium'] = Magnesium\n",
    "df['Total'] = Total\n",
    "df['Flavanoids'] = Flavanoids\n",
    "df['Nonflavanoid'] = Nonflavanoid\n",
    "df['Proanthocyanins'] = Proanthocyanins\n",
    "df['Color'] = Color\n",
    "df['Hue'] = Hue\n",
    "df['Wines'] = Wines\n",
    "df['Proline'] = Proline\n",
    "print (df)\n",
    "print(Clase)"
   ]
  },
  {
   "cell_type": "code",
   "execution_count": 3,
   "id": "3ae6e012-488a-45a6-b6c0-172a95e3966a",
   "metadata": {},
   "outputs": [
    {
     "data": {
      "text/plain": [
       "0.9259259259259259"
      ]
     },
     "execution_count": 3,
     "metadata": {},
     "output_type": "execute_result"
    }
   ],
   "source": [
    "from sklearn.model_selection import train_test_split\n",
    "from sklearn.neural_network import MLPClassifier\n",
    "\n",
    "X_entrenamiento, X_prueba, y_entrenamiento, y_prueba = train_test_split( df, \n",
    "                                                                        Clase, random_state=5, test_size = 0.3)\n",
    "MLP_cla = MLPClassifier(activation='tanh', max_iter=50000, hidden_layer_sizes=(100,100,100))\n",
    "MLP_cla.fit(X_entrenamiento,y_entrenamiento.values.ravel())\n",
    "prediccion = MLP_cla.predict(X_prueba)\n",
    "from sklearn.metrics import accuracy_score\n",
    "\n",
    "accuracy_score(y_prueba, prediccion)"
   ]
  },
  {
   "cell_type": "code",
   "execution_count": 4,
   "id": "aff1f74b-d98d-426f-ab7c-040b1ad3c8a7",
   "metadata": {},
   "outputs": [
    {
     "data": {
      "text/plain": [
       "0.9259259259259259"
      ]
     },
     "execution_count": 4,
     "metadata": {},
     "output_type": "execute_result"
    }
   ],
   "source": [
    "MLP_cla.score(X_prueba, y_prueba)"
   ]
  },
  {
   "cell_type": "code",
   "execution_count": 5,
   "id": "70eef9d3-af5d-4abc-bb3f-d42e5504dc8d",
   "metadata": {},
   "outputs": [
    {
     "name": "stdout",
     "output_type": "stream",
     "text": [
      "         Predice-Clase 1  Predice-Clase 2  Predice-Clase 3\n",
      "actual                                                    \n",
      "Clase 1               22                1                0\n",
      "Clase 2                2               16                0\n",
      "Clase 3                0                1               12\n"
     ]
    }
   ],
   "source": [
    "from sklearn.metrics import confusion_matrix\n",
    "matriz = confusion_matrix(y_prueba, prediccion)\n",
    "\n",
    "skcm = pd.DataFrame(matriz, columns=['Predice-Clase 1','Predice-Clase 2','Predice-Clase 3'])\n",
    "skcm['actual'] = ['Clase 1','Clase 2','Clase 3']\n",
    "skcm = skcm.set_index('actual')\n",
    "print(skcm)"
   ]
  },
  {
   "cell_type": "code",
   "execution_count": 6,
   "id": "877d97fc-3bf1-47e0-b0fd-d8114423d434",
   "metadata": {},
   "outputs": [
    {
     "name": "stdout",
     "output_type": "stream",
     "text": [
      "\n",
      "Reporte de la Clasificación:\n",
      "              precision    recall  f1-score   support\n",
      "\n",
      "      Setosa       0.92      0.96      0.94        23\n",
      "  Versicolor       0.89      0.89      0.89        18\n",
      "   Virginica       1.00      0.92      0.96        13\n",
      "\n",
      "    accuracy                           0.93        54\n",
      "   macro avg       0.94      0.92      0.93        54\n",
      "weighted avg       0.93      0.93      0.93        54\n",
      "\n"
     ]
    }
   ],
   "source": [
    "from sklearn.metrics import classification_report\n",
    "\n",
    "print(\"\\nReporte de la Clasificación:\")\n",
    "print(classification_report(y_prueba, prediccion, target_names=['Setosa', 'Versicolor', 'Virginica']))"
   ]
  },
  {
   "cell_type": "code",
   "execution_count": 7,
   "id": "c518610a-4af7-4607-a382-2bed22c87d30",
   "metadata": {},
   "outputs": [],
   "source": [
    "from sklearn.linear_model import LogisticRegression\n",
    "from sklearn.tree import DecisionTreeClassifier\n",
    "from sklearn.neighbors import KNeighborsClassifier\n",
    "from sklearn.discriminant_analysis import LinearDiscriminantAnalysis\n",
    "from sklearn.naive_bayes import GaussianNB\n",
    "from sklearn.svm import SVC\n",
    "\n",
    "# Creamos una lista de modelos\n",
    "modelos = []\n",
    "modelos.append(('LR', LogisticRegression(solver='liblinear', multi_class='ovr')))\n",
    "modelos.append(('LDA', LinearDiscriminantAnalysis()))\n",
    "modelos.append(('KNN', KNeighborsClassifier()))\n",
    "modelos.append(('CART', DecisionTreeClassifier()))\n",
    "modelos.append(('NB', GaussianNB()))\n",
    "modelos.append(('SVM', SVC(gamma='auto')))\n",
    "modelos.append(('MPL', MLPClassifier(activation='tanh', max_iter=5000, hidden_layer_sizes=(10,10,10))))"
   ]
  },
  {
   "cell_type": "code",
   "execution_count": 8,
   "id": "cad0590d-4d3d-4de0-b007-7b8c4e24e793",
   "metadata": {},
   "outputs": [
    {
     "name": "stdout",
     "output_type": "stream",
     "text": [
      "Clasificador = LR, Promedio = 0.9026666666666665, Desviacion = 0.0739188744503053 \n",
      "Clasificador = LDA, Promedio = 0.9676666666666666, Desviacion = 0.03002961501214721 \n",
      "Clasificador = KNN, Promedio = 0.7886666666666666, Desviacion = 0.0589387629474676 \n",
      "Clasificador = CART, Promedio = 0.9113333333333333, Desviacion = 0.07715352659902636 \n",
      "Clasificador = NB, Promedio = 0.9596666666666666, Desviacion = 0.04382287581211945 \n",
      "Clasificador = SVM, Promedio = 0.8620000000000001, Desviacion = 0.06971688779947396 \n",
      "Clasificador = MPL, Promedio = 0.8223333333333332, Desviacion = 0.19661468239511853 \n"
     ]
    }
   ],
   "source": [
    "from sklearn.model_selection import cross_val_score\n",
    "\n",
    "resultados = []\n",
    "nombres = []\n",
    "for nombre, modelo in modelos:\n",
    "\tcv_res = cross_val_score(modelo, X_entrenamiento, y_entrenamiento.values.ravel(), cv=5)\n",
    "\tresultados.append(cv_res)\n",
    "\tnombres.append(nombre)\n",
    "\tprint(\"Clasificador = {}, Promedio = {}, Desviacion = {} \".format(nombre, cv_res.mean(), cv_res.std()))"
   ]
  }
 ],
 "metadata": {
  "kernelspec": {
   "display_name": "Python 3 (ipykernel)",
   "language": "python",
   "name": "python3"
  },
  "language_info": {
   "codemirror_mode": {
    "name": "ipython",
    "version": 3
   },
   "file_extension": ".py",
   "mimetype": "text/x-python",
   "name": "python",
   "nbconvert_exporter": "python",
   "pygments_lexer": "ipython3",
   "version": "3.9.12"
  }
 },
 "nbformat": 4,
 "nbformat_minor": 5
}
